{
 "cells": [
  {
   "cell_type": "code",
   "execution_count": 1,
   "metadata": {
    "execution": {
     "iopub.execute_input": "2020-10-17T20:09:01.634749Z",
     "iopub.status.busy": "2020-10-17T20:09:01.633805Z",
     "iopub.status.idle": "2020-10-17T20:09:05.306320Z",
     "shell.execute_reply": "2020-10-17T20:09:05.305700Z"
    }
   },
   "outputs": [
    {
     "data": {
      "text/plain": [
       "Text(0, 0.5, 'occupancy')"
      ]
     },
     "execution_count": 1,
     "metadata": {},
     "output_type": "execute_result"
    },
    {
     "data": {
      "image/png": "[encoded data removed]",
      "text/plain": [
       "<Figure size 180x144 with 1 Axes>"
      ]
     },
     "metadata": {
      "filenames": {
       "image/png": "/home/runner/work/fluordynamics/fluordynamics/docs/build/jupyter_execute/fluorburst_0_1.png"
      },
      "needs_background": "light"
     },
     "output_type": "display_data"
    }
   ],
   "source": [
    "import os\n",
    "import fluordynamics as fd\n",
    "import matplotlib.pyplot as plt\n",
    "path = os.path.dirname(fd.__file__)\n",
    "\n",
    "experiment = fd.fluorburst.Experiment.load(path+'/../docs/source/tutorial/trajectory_examples/dna')\n",
    "\n",
    "f, ax = plt.subplots(nrows=1, ncols=1, figsize=(2.5, 2), sharex=False, sharey=False, squeeze=False)\n",
    "plt.hist(experiment.FRETefficiencies,bins=20, range=(0,1), color='grey', edgecolor='black')\n",
    "ax[0,0].set_xlabel('FRET')\n",
    "ax[0,0].set_ylabel('occupancy')"
   ]
  }
 ],
 "metadata": {
  "kernelspec": {
   "display_name": "Python 3",
   "language": "python",
   "name": "python3"
  },
  "language_info": {
   "codemirror_mode": {
    "name": "ipython",
    "version": 3
   },
   "file_extension": ".py",
   "mimetype": "text/x-python",
   "name": "python",
   "nbconvert_exporter": "python",
   "pygments_lexer": "ipython3",
   "version": "3.8.6"
  }
 },
 "nbformat": 4,
 "nbformat_minor": 4
}