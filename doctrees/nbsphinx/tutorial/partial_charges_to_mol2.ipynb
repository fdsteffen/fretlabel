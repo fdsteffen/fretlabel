{
 "cells": [
  {
   "cell_type": "markdown",
   "metadata": {},
   "source": [
    "# Adding partial charges to mol2 files\n",
    "\n",
    "This tutorial demonstrates how to transfer partial charges from an GROMACS **rtp** (residue topology file) to a mol2 coordinate file.\n",
    "\n",
    "Before starting, make sure that you have the following modules installed\n",
    "- Pandas and Biopandas (install via conda `conda install -c conda-forge biopandas pandas`)\n",
    "- Fluordynamics"
   ]
  },
  {
   "cell_type": "code",
   "execution_count": 1,
   "metadata": {},
   "outputs": [],
   "source": [
    "import pandas as pd\n",
    "from biopandas.mol2 import PandasMol2\n",
    "import fluordynamics as fd"
   ]
  },
  {
   "cell_type": "code",
   "execution_count": 2,
   "metadata": {},
   "outputs": [
    {
     "data": {
      "text/plain": [
       "<module 'fluordynamics.ff' from '/mnt/c/Users/fsteffen/Github/fluordynamics/fluordynamics/ff.py'>"
      ]
     },
     "execution_count": 2,
     "metadata": {},
     "output_type": "execute_result"
    }
   ],
   "source": [
    "import importlib\n",
    "importlib.reload(fd.ff)"
   ]
  },
  {
   "cell_type": "markdown",
   "metadata": {},
   "source": [
    "Here we will add partial charges from the AMBER14 force field to the RNA and DNA mononucleotides.\n",
    "Load the deoxyribonucleotides **mol2** files (with hydrogen names adapted to the AMBER ff) along with the corresponding **rtp** entries from the AMBER force field."
   ]
  },
  {
   "cell_type": "code",
   "execution_count": 4,
   "metadata": {},
   "outputs": [],
   "source": [
    "DA_mol2 = PandasMol2().read_mol2('../fragments/bases/in/deoxyadenosine.mol2')\n",
    "DT_mol2 = PandasMol2().read_mol2('../fragments/bases/in/deoxythymidine.mol2')\n",
    "DG_mol2 = PandasMol2().read_mol2('../fragments/bases/in/deoxyguanosine.mol2')\n",
    "DC_mol2 = PandasMol2().read_mol2('../fragments/bases/in/deoxycytidine.mol2')\n",
    "\n",
    "RA_mol2 = PandasMol2().read_mol2('../fragments/bases/in/adenosine.mol2')\n",
    "RU_mol2 = PandasMol2().read_mol2('../fragments/bases/in/uridine.mol2')\n",
    "RG_mol2 = PandasMol2().read_mol2('../fragments/bases/in/guanosine.mol2')\n",
    "RC_mol2 = PandasMol2().read_mol2('../fragments/bases/in/cytidine.mol2')\n",
    "\n",
    "DA_rtp = pd.read_csv('../forcefields/amber_rtp/dna.rtp', skiprows=89, sep='\\s+', nrows=32, comment=';', names=['atom_name', 'atom_type', 'charge', 'nr'], na_filter=False)\n",
    "DT_rtp = pd.read_csv('../forcefields/amber_rtp/dna.rtp', skiprows=393, sep='\\s+', nrows=32, comment=';', names=['atom_name', 'atom_type', 'charge', 'nr'], na_filter=False)\n",
    "DG_rtp = pd.read_csv('../forcefields/amber_rtp/dna.rtp', skiprows=700, sep='\\s+', nrows=33, comment=';', names=['atom_name', 'atom_type', 'charge', 'nr'], na_filter=False)\n",
    "DC_rtp = pd.read_csv('../forcefields/amber_rtp/dna.rtp', skiprows=1007, sep='\\s+', nrows=30, comment=';', names=['atom_name', 'atom_type', 'charge', 'nr'], na_filter=False)\n",
    "\n",
    "RA_rtp = pd.read_csv('../forcefields/amber_rtp/rna.rtp', skiprows=92, sep='\\s+', nrows=33, comment=';', names=['atom_name', 'atom_type', 'charge', 'nr'], na_filter=False)\n",
    "RU_rtp = pd.read_csv('../forcefields/amber_rtp/rna.rtp', skiprows=397, sep='\\s+', nrows=30, comment=';', names=['atom_name', 'atom_type', 'charge', 'nr'], na_filter=False)\n",
    "RG_rtp = pd.read_csv('../forcefields/amber_rtp/rna.rtp', skiprows=693, sep='\\s+', nrows=34, comment=';', names=['atom_name', 'atom_type', 'charge', 'nr'], na_filter=False)\n",
    "RC_rtp = pd.read_csv('../forcefields/amber_rtp/rna.rtp', skiprows=1009, sep='\\s+', nrows=31, comment=';', names=['atom_name', 'atom_type', 'charge', 'nr'], na_filter=False)"
   ]
  },
  {
   "cell_type": "markdown",
   "metadata": {},
   "source": [
    "<tr>\n",
    "<td> <img src='images/DA_DT.png' width=500> </td>\n",
    "<td> <img src='images/DG_DC.png' width=500> </td>\n",
    "</tr>"
   ]
  },
  {
   "cell_type": "markdown",
   "metadata": {},
   "source": [
    "Use the `fd.ff.pandasMol2_replace()` function to add the `charge` column of the rtp file into the mol2 file. The `atom_name` column is used as the comparing index."
   ]
  },
  {
   "cell_type": "code",
   "execution_count": 5,
   "metadata": {},
   "outputs": [],
   "source": [
    "fd.ff.pandasMol2_replace(DA_rtp, DA_mol2.df, 'charge')\n",
    "fd.ff.pandasMol2_replace(DT_rtp, DT_mol2.df, 'charge')\n",
    "fd.ff.pandasMol2_replace(DG_rtp, DG_mol2.df, 'charge')\n",
    "fd.ff.pandasMol2_replace(DC_rtp, DC_mol2.df, 'charge')\n",
    "fd.ff.pandasMol2_replace(RA_rtp, RA_mol2.df, 'charge')\n",
    "fd.ff.pandasMol2_replace(RU_rtp, RU_mol2.df, 'charge')\n",
    "fd.ff.pandasMol2_replace(RG_rtp, RG_mol2.df, 'charge')\n",
    "fd.ff.pandasMol2_replace(RC_rtp, RC_mol2.df, 'charge')"
   ]
  },
  {
   "cell_type": "markdown",
   "metadata": {},
   "source": [
    "Finally, save the updated mol2 files."
   ]
  },
  {
   "cell_type": "code",
   "execution_count": 7,
   "metadata": {},
   "outputs": [
    {
     "name": "stdout",
     "output_type": "stream",
     "text": [
      "File already exists, do not overwrite\n",
      "File already exists, do not overwrite\n",
      "File already exists, do not overwrite\n",
      "File already exists, do not overwrite\n"
     ]
    }
   ],
   "source": [
    "fd.ff.write_mol2(DA_mol2, '../fragments/bases/out/deoxyadenosine.mol2')\n",
    "fd.ff.write_mol2(DT_mol2, '../fragments/bases/out/deoxythymidine.mol2')\n",
    "fd.ff.write_mol2(DG_mol2, '../fragments/bases/out/deoxyguanosine.mol2')\n",
    "fd.ff.write_mol2(DC_mol2, '../fragments/bases/out/deoxycytidine.mol2')\n",
    "\n",
    "fd.ff.write_mol2(RA_mol2, '../fragments/bases/out/adenosine.mol2')\n",
    "fd.ff.write_mol2(RU_mol2, '../fragments/bases/out/uridine.mol2')\n",
    "fd.ff.write_mol2(RG_mol2, '../fragments/bases/out/guanosine.mol2')\n",
    "fd.ff.write_mol2(RC_mol2, '../fragments/bases/out/cytidine.mol2')"
   ]
  },
  {
   "cell_type": "code",
   "execution_count": null,
   "metadata": {},
   "outputs": [],
   "source": []
  }
 ],
 "metadata": {
  "kernelspec": {
   "display_name": "Python 3",
   "language": "python",
   "name": "python3"
  },
  "language_info": {
   "codemirror_mode": {
    "name": "ipython",
    "version": 3
   },
   "file_extension": ".py",
   "mimetype": "text/x-python",
   "name": "python",
   "nbconvert_exporter": "python",
   "pygments_lexer": "ipython3",
   "version": "3.7.7"
  }
 },
 "nbformat": 4,
 "nbformat_minor": 4
}
